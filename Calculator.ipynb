{
  "cells": [
    {
      "cell_type": "markdown",
      "metadata": {
        "id": "view-in-github",
        "colab_type": "text"
      },
      "source": [
        "<a href=\"https://colab.research.google.com/github/netsiandakhathutshelo2/-My_Projects/blob/main/Calculator.ipynb\" target=\"_parent\"><img src=\"https://colab.research.google.com/assets/colab-badge.svg\" alt=\"Open In Colab\"/></a>"
      ]
    },
    {
      "cell_type": "markdown",
      "metadata": {
        "id": "eGq4bHrwyNwX"
      },
      "source": [
        "**Calulator**"
      ]
    },
    {
      "cell_type": "code",
      "execution_count": null,
      "metadata": {
        "colab": {
          "background_save": true,
          "base_uri": "https://localhost:8080/"
        },
        "id": "aLJZYf-aru4d",
        "outputId": "1889c1bf-1e6a-40d6-abe5-d3659353a9e8"
      },
      "outputs": [
        {
          "name": "stdout",
          "output_type": "stream",
          "text": [
            "+\n",
            "-\n",
            "*\n",
            "/\n",
            "6.0 +  9.0 = 15.0\n",
            "+\n",
            "-\n",
            "*\n",
            "/\n",
            "15.0 *  5.0 = 75.0\n"
          ]
        }
      ],
      "source": [
        "#add\n",
        "def Add(n1,n2):\n",
        "  return n1 + n2\n",
        "\n",
        "#divide\n",
        "def Divide(n1,n2):\n",
        "  return n1 / n2\n",
        "\n",
        "#subtract\n",
        "def Subtract(n1, n2):\n",
        "  return n1 - n2\n",
        "\n",
        "#multiply\n",
        "def Multiply(n1, n2):\n",
        "  return n1 * n2\n",
        "\n",
        "operators = {\"+\" : Add,\n",
        "             \"-\" : Subtract,\n",
        "             \"*\" : Multiply,\n",
        "             \"/\" : Divide,}\n",
        "\n",
        "def Calculator():\n",
        "  n1 = float(input(\"whats your  first number ?\" ))\n",
        "\n",
        "  Continue = True\n",
        "  while Continue :\n",
        "\n",
        "    for Symbol in operators:\n",
        "      print(Symbol)\n",
        "\n",
        "    n2 = float(input(\"whats your next number ? \"))\n",
        "\n",
        "    pick_Symbol = input(\"Pick a symbol from above: \")\n",
        "    function = operators[pick_Symbol]\n",
        "    answer = function(n1 , n2)\n",
        "\n",
        "    print(f\"{n1} {pick_Symbol}  {n2} = {answer}\")\n",
        "\n",
        "    if input(f\"Type Y to Contunue with {answer}  or N to start a new calculation or E to Exit \") == \"Y\":\n",
        "      n1 = answer\n",
        "    else:\n",
        "      Continue = False\n",
        "      Calculator()\n",
        "\n",
        "Calculator()\n",
        "\n",
        "\n"
      ]
    },
    {
      "cell_type": "markdown",
      "metadata": {
        "id": "xMBW_RjJ8OJy"
      },
      "source": []
    }
  ],
  "metadata": {
    "colab": {
      "provenance": [],
      "authorship_tag": "ABX9TyPctwofTkC1yMnvL3QKLmSF",
      "include_colab_link": true
    },
    "kernelspec": {
      "display_name": "Python 3",
      "name": "python3"
    },
    "language_info": {
      "name": "python"
    }
  },
  "nbformat": 4,
  "nbformat_minor": 0
}