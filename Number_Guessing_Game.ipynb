{
  "nbformat": 4,
  "nbformat_minor": 0,
  "metadata": {
    "colab": {
      "provenance": [],
      "authorship_tag": "ABX9TyOSEW1bbLcJU+JrMfZdGSEy",
      "include_colab_link": true
    },
    "kernelspec": {
      "name": "python3",
      "display_name": "Python 3"
    },
    "language_info": {
      "name": "python"
    }
  },
  "cells": [
    {
      "cell_type": "markdown",
      "metadata": {
        "id": "view-in-github",
        "colab_type": "text"
      },
      "source": [
        "<a href=\"https://colab.research.google.com/github/netsiandakhathutshelo2/-My_Projects/blob/main/Number_Guessing_Game.ipynb\" target=\"_parent\"><img src=\"https://colab.research.google.com/assets/colab-badge.svg\" alt=\"Open In Colab\"/></a>"
      ]
    },
    {
      "cell_type": "markdown",
      "source": [
        "**Number Guessing Game**"
      ],
      "metadata": {
        "id": "s0I7F8a_vsmi"
      }
    },
    {
      "cell_type": "markdown",
      "source": [],
      "metadata": {
        "id": "NsusuHkpv02o"
      }
    },
    {
      "cell_type": "code",
      "source": [],
      "metadata": {
        "id": "tCKqsh3Bxv7u"
      },
      "execution_count": null,
      "outputs": []
    },
    {
      "cell_type": "code",
      "source": [
        "\n",
        "import random\n",
        "\n",
        "print(\"Welcome to Number Gussing Game!!!\")\n",
        "\n",
        "def Game():\n",
        "  Number = random.choice(range(0,100))\n",
        "  print(\"Im thing of a number bettwen 0 to 100 .........\")\n",
        "  print(Number)\n",
        "  Difficulty = input(\"chose dificulty ,type Hard or Easy: \")\n",
        "\n",
        "  if Difficulty == \"Easy\":\n",
        "    number_of_guesses = 10\n",
        "    print(\"You have 10 attempts\")\n",
        "\n",
        "  else:\n",
        "    number_of_guesses = 5\n",
        "    print(\"You have 5 attempts\")\n",
        "\n",
        "  Guess = int(input(\"Make a guess: \"))\n",
        "  while number_of_guesses > 0 :\n",
        "    number_of_guesses -= 1\n",
        "\n",
        "    if Guess !=  Number and number_of_guesses == 0:\n",
        "      print (\"You could not Guess the Number , Game Over!!!\")\n",
        "    elif Guess > Number :\n",
        "      print(\"Too High\")\n",
        "      print(f\"you have {number_of_guesses} attempts left\")\n",
        "      Guess = int(input(\"Guess Again: \"))\n",
        "    elif Guess < Number :\n",
        "      print(\"Too Low\")\n",
        "      print(f\"you have {number_of_guesses} attempts left\")\n",
        "      Guess = int(input(\"Guess Again: \"))\n",
        "    else:\n",
        "      print(\"You Guessed the Number ,You Won!!!\")\n",
        "\n",
        "is_game_over = False\n",
        "while not is_game_over :\n",
        "  Game()\n",
        "  if input(\"Do you want to play again ? Y for Yes or N for N :\") == \"Y\"  :\n",
        "    is_game_over = False\n",
        "  else:\n",
        "    is_game_over = True\n",
        "\n",
        "\n",
        "\n",
        "\n",
        "\n",
        "\n",
        "\n",
        "\n",
        "\n",
        "\n"
      ],
      "metadata": {
        "colab": {
          "base_uri": "https://localhost:8080/"
        },
        "id": "QAgodI3Vv8tv",
        "outputId": "6c7fee60-67d9-4385-c8ef-50c9c9d3a9c4"
      },
      "execution_count": null,
      "outputs": [
        {
          "name": "stdout",
          "output_type": "stream",
          "text": [
            "Welcome to Number Gussing Game!!!\n",
            "Im thing of a number bettwen 0 to 100 .........\n",
            "67\n",
            "chose dificulty ,type Hard or Easy: 6\n",
            "You have 5 attempts\n",
            "Make a guess: 67\n"
          ]
        }
      ]
    }
  ]
}