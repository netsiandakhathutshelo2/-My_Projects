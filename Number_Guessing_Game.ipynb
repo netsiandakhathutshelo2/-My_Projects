{
  "nbformat": 4,
  "nbformat_minor": 0,
  "metadata": {
    "colab": {
      "provenance": [],
      "authorship_tag": "ABX9TyOBtX6cki9G+hfyvypsOuhS",
      "include_colab_link": true
    },
    "kernelspec": {
      "name": "python3",
      "display_name": "Python 3"
    },
    "language_info": {
      "name": "python"
    }
  },
  "cells": [
    {
      "cell_type": "markdown",
      "metadata": {
        "id": "view-in-github",
        "colab_type": "text"
      },
      "source": [
        "<a href=\"https://colab.research.google.com/github/netsiandakhathutshelo2/-My_Projects/blob/main/Number_Guessing_Game.ipynb\" target=\"_parent\"><img src=\"https://colab.research.google.com/assets/colab-badge.svg\" alt=\"Open In Colab\"/></a>"
      ]
    },
    {
      "cell_type": "markdown",
      "source": [
        "**Number Guessing Game**"
      ],
      "metadata": {
        "id": "s0I7F8a_vsmi"
      }
    },
    {
      "cell_type": "markdown",
      "source": [],
      "metadata": {
        "id": "NsusuHkpv02o"
      }
    },
    {
      "cell_type": "code",
      "source": [],
      "metadata": {
        "id": "tCKqsh3Bxv7u"
      },
      "execution_count": null,
      "outputs": []
    },
    {
      "cell_type": "code",
      "source": [
        "\n",
        "import random\n",
        "\n",
        "print(\"Welcome to Number Gussing Game!!!\")\n",
        "\n",
        "Number = random.choice(range(0,100))\n",
        "print(\"Im thing of a number bettwen 0 to 100 .........\")\n",
        "\n",
        "Difficulty = input(\"chose dificulty ,type Hard or Easy: \")\n",
        "\n",
        "if Difficulty == \"Easy\":\n",
        "  number_of_guesses = 10\n",
        "  print(\"You have 10 attempts\")\n",
        "\n",
        "else:\n",
        "  number_of_guesses = 5\n",
        "  print(\"You have 5 attempts\")\n",
        "\n",
        "Guess = int(input(\"Make a guess: \"))\n",
        "while number_of_guesses > 0:\n",
        "  number_of_guesses -= 1\n",
        "\n",
        "  if Guess !=  Number and number_of_guesses == 0:\n",
        "    print (\"You could not Guess the Number , Game Over!!!\")\n",
        "  elif Guess > Number :\n",
        "    print(\"Too High\")\n",
        "    print(f\"you have {number_of_guesses} attempts left\")\n",
        "    Guess = int(input(\"Guess Again: \"))\n",
        "  elif Guess < Number :\n",
        "    print(\"Too Low\")\n",
        "    print(f\"you have {number_of_guesses} attempts left\")\n",
        "    Guess = int(input(\"Guess Again: \"))\n",
        "  else:\n",
        "    print(\"Yo Guessed the Number ,You Won!!!\")\n",
        "\n",
        "\n",
        "\n",
        "\n",
        "\n",
        "\n",
        "\n",
        "\n",
        "\n",
        "\n",
        "\n",
        "\n"
      ],
      "metadata": {
        "colab": {
          "base_uri": "https://localhost:8080/"
        },
        "id": "QAgodI3Vv8tv",
        "outputId": "d7c0473d-4052-412e-cdc7-326d82c0dc5b"
      },
      "execution_count": 17,
      "outputs": [
        {
          "output_type": "stream",
          "name": "stdout",
          "text": [
            "Welcome to Number Gussing Game!!!\n",
            "Im thing of a number bettwen 0 to 100 .........\n",
            "chose dificulty ,type Hard or Easy: Hard\n",
            "You have 5 attempts\n",
            "88\n",
            "Make a guess: 70\n",
            "4\n",
            "Too Low\n",
            "you have 4 attempts left\n",
            "Guess Again: 90\n",
            "3\n",
            "Too High\n",
            "you have 3 attempts left\n",
            "Guess Again: 85\n",
            "2\n",
            "Too Low\n",
            "you have 2 attempts left\n",
            "Guess Again: 81\n",
            "1\n",
            "Too Low\n",
            "you have 1 attempts left\n",
            "Guess Again: 89\n",
            "0\n",
            "You could not Guess the Number , Game Over!!!\n"
          ]
        }
      ]
    }
  ]
}