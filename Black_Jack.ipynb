{
  "nbformat": 4,
  "nbformat_minor": 0,
  "metadata": {
    "colab": {
      "provenance": [],
      "authorship_tag": "ABX9TyNZtBZe6IdXYQKTKQX2QpDk",
      "include_colab_link": true
    },
    "kernelspec": {
      "name": "python3",
      "display_name": "Python 3"
    },
    "language_info": {
      "name": "python"
    }
  },
  "cells": [
    {
      "cell_type": "markdown",
      "metadata": {
        "id": "view-in-github",
        "colab_type": "text"
      },
      "source": [
        "<a href=\"https://colab.research.google.com/github/netsiandakhathutshelo2/-My_Projects/blob/main/Black_Jack.ipynb\" target=\"_parent\"><img src=\"https://colab.research.google.com/assets/colab-badge.svg\" alt=\"Open In Colab\"/></a>"
      ]
    },
    {
      "cell_type": "markdown",
      "source": [
        "**Black Jack**"
      ],
      "metadata": {
        "id": "ER8TS0XhyMvO"
      }
    },
    {
      "cell_type": "code",
      "source": [
        "Cards =[11,2,3,4,5,6,7,8,9,10,10,10,10]\n"
      ],
      "metadata": {
        "id": "SD7qHNjTyWYR"
      },
      "execution_count": null,
      "outputs": []
    },
    {
      "cell_type": "code",
      "source": [
        "import random\n",
        "############### Blackjack Project #####################\n",
        "\n",
        "#Difficulty Normal 😎: Use all Hints below to complete the project.\n",
        "#Difficulty Hard 🤔: Use only Hints 1, 2, 3 to complete the project.\n",
        "#Difficulty Extra Hard 😭: Only use Hints 1 & 2 to complete the project.\n",
        "#Difficulty Expert 🤯: Only use Hint 1 to complete the project.\n",
        "\n",
        "############### Our Blackjack House Rules #####################\n",
        "\n",
        "## The deck is unlimited in size.\n",
        "## There are no jokers.\n",
        "## The Jack/Queen/King all count as 10.\n",
        "## The the Ace can count as 11 or 1.\n",
        "## Use the following list as the deck of cards:\n",
        "## cards = [11, 2, 3, 4, 5, 6, 7, 8, 9, 10, 10, 10, 10]\n",
        "## The cards in the list have equal probability of being drawn.\n",
        "## Cards are not removed from the deck as they are drawn.\n",
        "## The computer is the dealer.\n",
        "\n",
        "##################### Hints #####################\n",
        "\n",
        "#Hint 1: Go to this website and try out the Blackjack game:\n",
        "#   https://games.washingtonpost.com/games/blackjack/\n",
        "#Then try out the completed Blackjack project here:\n",
        "#   http://blackjack-final.appbrewery.repl.run\n",
        "\n",
        "#Hint 2: Read this breakdown of program requirements:\n",
        "#   http://listmoz.com/view/6h34DJpvJBFVRlZfJvxF\n",
        "#Then try to create your own flowchart for the program.\n",
        "\n",
        "#Hint 3: Download and read this flow chart I've created:\n",
        "#   https://drive.google.com/uc?export=download&id=1rDkiHCrhaf9eX7u7yjM1qwSuyEk-rPnt\n",
        "\n",
        "#Hint 4: Create a deal_card() function that uses the List below to *return* a random card.\n",
        "#11 is the Ace.\n",
        "def deal_card():\n",
        "  cards = [11, 2, 3, 4, 5, 6, 7, 8, 9, 10, 10, 10, 10]\n",
        "  return random.choice(cards)\n",
        "\n",
        "#Hint 5: Deal the user and computer 2 cards each using deal_card() and append().\n",
        "user_cards     = []\n",
        "computer_cards = []\n",
        "is_gameOver    = False\n",
        "\n",
        "for _ in range(2):\n",
        "  user_cards.append(deal_card())\n",
        "  computer_cards.append(deal_card())\n",
        "\n",
        "print(f\"User;s Cards: {user_cards}\")\n",
        "print(f\" Computer,s Cards {computer_cards}\")\n",
        "\n",
        "#Hint 6: Create a function called calculate_score() that takes a List of cards as input\n",
        "#and returns the score.\n",
        "#Look up the sum() function to help you do this.\n",
        "#Hint 7: Inside calculate_score() check for a blackjack (a hand with only 2 cards: ace + 10) and return 0 instead of the actual score. 0 will represent a blackjack in our game.\n",
        "#Hint 8: Inside calculate_score() check for an 11 (ace). If the score is already over 21, remove the 11 and replace it with a 1. You might need to look up append() and remove().\n",
        "\n",
        "def calculate_score(Cards):\n",
        "\n",
        "  if 10 in Cards or 11 in Cards and len(Cards) == 2:\n",
        "    return 0\n",
        "\n",
        "  if 11 in Cards and sum(Cards) > 21:\n",
        "    Cards.remove(11)\n",
        "    Cards.append(1)\n",
        "\n",
        "  return sum(Cards)\n",
        "\n",
        "while not is_gameOver :\n",
        "  #Hint 9: Call calculate_score(). If the computer or the user has a blackjack (0) or if the user's score is over 21, then the game ends.\n",
        "  user_score = calculate_score(user_cards)\n",
        "  computer_score = calculate_score(computer_cards)\n",
        "\n",
        "  print(f\" users total score {user_score }\" )\n",
        "  print(f\" Computers Total Score {computer_score}\")\n",
        "\n",
        "  if user_score == 0 or user_score > 21 :\n",
        "    is_gameOver = True\n",
        "\n",
        "  #Hint 10: If the game has not ended, ask the user if they want to draw another card. If yes, then use the deal_card() function to add another card to the user_cards List. If no, then the game has ended.\n",
        "\n",
        "  else:\n",
        "    user_should_deal = input(\"enter Y to draw another card? or N to Pass\")\n",
        "    if user_should_deal == \"Y\":\n",
        "      user_cards.append(deal_card())\n",
        "    else:\n",
        "      is_gameOver = True\n",
        "    #computer_cards.append(deal_card())\n",
        "    calculate_score(user_cards)\n",
        "    #calculate_score(user_cards)\n",
        "\n",
        "#Hint 11: The score will need to be rechecked with every new card drawn and the checks in Hint 9 need to be repeated until the game ends.\n",
        "\n",
        "#Hint 13: Create a function called compare() and pass in the user_score and computer_score. If the computer and user both have the same score, then it's a draw. If the computer has a blackjack (0), then the user loses. If the user has a blackjack (0), then the user wins.\n",
        "#If the user_score is over 21, then the user loses. If the computer_score is over 21, then the computer loses. If none of the above, then the player with the highest score wins.\n",
        "\n",
        "def compare(user ,computer):\n",
        "  if user = computer :\n",
        "    print(\"draw\")\n",
        "\n",
        "  elif user  = 0 or computer > 21 :\n",
        "    print(\"user won\")\n",
        "    print(\"computer lose\")\n",
        "\n",
        "  elif computer  = 0 or user > 21 :\n",
        "    print(\"computer won\")\n",
        "    print(\"user lose\")\n",
        "\n",
        "  elif computer  > user:\n",
        "    print(\"computer won\")\n",
        "    print(\"user lose\")\n",
        "\n",
        "  elif user > computer   :\n",
        "    print(\"user won\")\n",
        "    print(\"computer lose\")\n",
        "\n",
        "#Hint 12: Once the user is done, it's time to let the computer play. The computer should keep drawing cards as long as it has a score less than 17.\n",
        "while computer_score != 0 or computer_score < 17:\n",
        "  computer_cards.append(deal_card())\n",
        "  calculate_score = calculate_score(computer_cards)\n",
        "\n",
        "\n",
        "\n",
        "\n",
        "compare(user_score,computer_score)\n",
        "\n",
        "if input(\"Do want to restart the game ? \") == Y:\n",
        "  play_game()\n",
        "  is_gameOver = True\n",
        "\n"
      ],
      "metadata": {
        "colab": {
          "base_uri": "https://localhost:8080/"
        },
        "id": "f7vgGnRVzB7l",
        "outputId": "31cf6963-dcac-4029-fb7c-c34f6bbda140"
      },
      "execution_count": null,
      "outputs": [
        {
          "output_type": "stream",
          "name": "stdout",
          "text": [
            "[10, 11]\n",
            "[10, 8]\n",
            "User lost\n",
            "0\n",
            "18\n"
          ]
        }
      ]
    }
  ]
}